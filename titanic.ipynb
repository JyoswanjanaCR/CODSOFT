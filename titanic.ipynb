import numpy as np
import pandas as pd
import matplotlib.pyplot as plt
import seaborn as sns

df = pd.read_csv("Titanic-Dataset.csv")
print(df.head())

plt.figure(figsize=(5, 4))
sns.histplot(df['Age'], bins=30, kde=True)
plt.title('Age Distribution')
plt.show()

plt.figure(figsize=(5, 4))
sns.countplot(x='Survived', data=df)
plt.title('Survival Count')
plt.show()

sns.catplot(x='Sex', hue='Survived', kind='count', data=df)
plt.title('Survival Rate By Sex')
plt.show()

sns.catplot(x='Pclass', hue='Survived', kind='count', data=df)
plt.title('Survival Rate By Class')
plt.show()

sns.boxplot(x='Survived', y='Age', data=df)
plt.title('Age Distribution By Survival')
plt.show

# Survival rate by sex and class
sns.catplot(x='Pclass', hue='Sex', col='Survived', data=df, kind='count', height=4, aspect=0.7)
plt.show()

# Pairplot of numerical features colored by survival
plt.figure(figsize=(3,3))
sns.pairplot(df, hue='Survived', vars=['Age', 'Fare', 'Pclass'])
plt.show()
